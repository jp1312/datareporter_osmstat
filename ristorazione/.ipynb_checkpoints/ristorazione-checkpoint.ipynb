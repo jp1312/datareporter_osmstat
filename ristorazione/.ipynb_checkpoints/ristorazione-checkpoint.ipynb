{
 "cells": [
  {
   "cell_type": "markdown",
   "metadata": {},
   "source": [
    "<h1>TEST di query per estrarre i servizi di ristorazione da uno stato</h1>"
   ]
  },
  {
   "cell_type": "code",
   "execution_count": 19,
   "metadata": {
    "collapsed": false
   },
   "outputs": [],
   "source": [
    "import overpy\n",
    "def number_node(stato = \"FR\"):\n",
    "    api = overpy.Overpass()\n",
    "\n",
    "    query = '''\n",
    "        ( area[\"ISO3166-1\"={}]; )->.a;\n",
    "        node[\"amenity\"~\"bar|cafe|pub|internet_cafe|fast_food|restaurant\"] (area.a);\n",
    "        (._;>;);\n",
    "        out body;'''.format(stato)\n",
    "    result = api.query(query)\n",
    "    print(stato, len(result.nodes))\n",
    "    return {\"num_nodi\": len(result.nodes), \"nodi\": result}"
   ]
  },
  {
   "cell_type": "markdown",
   "metadata": {},
   "source": [
    "<h1> numero di nodi (punti di ristorazione) individuati dalla query</h1>"
   ]
  },
  {
   "cell_type": "code",
   "execution_count": 31,
   "metadata": {
    "collapsed": false
   },
   "outputs": [
    {
     "name": "stdout",
     "output_type": "stream",
     "text": [
      "6658\n"
     ]
    }
   ],
   "source": [
    "risultati = number_node(stato = 'IE')\n",
    "print(risultati['num_nodi'])"
   ]
  },
  {
   "cell_type": "markdown",
   "metadata": {},
   "source": [
    "<h1> elenco dei primi 7 nodi </h1>"
   ]
  },
  {
   "cell_type": "code",
   "execution_count": 25,
   "metadata": {
    "collapsed": false
   },
   "outputs": [
    {
     "name": "stdout",
     "output_type": "stream",
     "text": [
      "{'cuisine': 'indian', 'amenity': 'restaurant', 'addr:street': 'Kilmacud Road Lower', 'name': 'Indian Summer'} 53.2884983 -6.2057489\n",
      "{'amenity': 'restaurant'} 54.0393202 -7.7142799\n",
      "{'created_by': 'Potlatch 0.5c', 'amenity': 'pub', 'name': 'Traders'} 53.3068846 -6.3373313\n",
      "{'amenity': 'pub', 'name': 'Boot Inn'} 53.4318527 -6.2639303\n",
      "{'toilets:wheelchair': 'yes', 'wheelchair': 'yes', 'amenity': 'pub', 'name': 'The Harbourmaster'} 53.3497415 -6.2490911\n",
      "{'wheelchair': 'yes', 'amenity': 'restaurant', 'addr:street': 'Deerpark Road', 'name': 'Union Cafe'} 53.2964377 -6.2113258\n",
      "{'addr:city': 'Dublin', 'wheelchair': 'no', 'amenity': 'pub', 'name': 'Le Monde', 'addr:country': 'IE', 'addr:street': 'Store Street', 'addr:housenumber': '21'} 53.3500620 -6.2526730\n"
     ]
    }
   ],
   "source": [
    "for item in risultati[\"nodi\"].nodes[0:7]:\n",
    "    print(item.tags, item.lat, item.lon)"
   ]
  },
  {
   "cell_type": "markdown",
   "metadata": {},
   "source": [
    "<h1> raccolta dati nuts0 da OSM su ristorazione </h1> "
   ]
  },
  {
   "cell_type": "code",
   "execution_count": 7,
   "metadata": {
    "collapsed": true
   },
   "outputs": [],
   "source": [
    "import pandas as pd\n",
    "import os\n",
    "import numpy as np"
   ]
  },
  {
   "cell_type": "code",
   "execution_count": 8,
   "metadata": {
    "collapsed": true
   },
   "outputs": [],
   "source": [
    "#recupero la tabella di eurostat con i dati sulle unità locali della ristorazione \n",
    "data = pd.read_excel(\"I56_eurostat.xlsx\")"
   ]
  },
  {
   "cell_type": "code",
   "execution_count": 26,
   "metadata": {
    "collapsed": true
   },
   "outputs": [],
   "source": [
    "data[\"num_nodi\"] = np.nan "
   ]
  },
  {
   "cell_type": "code",
   "execution_count": 27,
   "metadata": {
    "collapsed": true
   },
   "outputs": [],
   "source": [
    "data.set_index(\"CodiceMAP\", inplace = True)"
   ]
  },
  {
   "cell_type": "code",
   "execution_count": 34,
   "metadata": {
    "collapsed": false
   },
   "outputs": [],
   "source": [
    "for stato in data.index:\n",
    "    try:\n",
    "        data.loc[stato, \"num_nodi\"] = number_node(stato = stato)['num_nodi']\n",
    "    except:\n",
    "        data.loc[stato, \"num_nodi\"] = \"error\"\n",
    "        \n",
    "        "
   ]
  },
  {
   "cell_type": "code",
   "execution_count": null,
   "metadata": {
    "collapsed": true
   },
   "outputs": [],
   "source": [
    "<h1> risultato del primo tentativo </h1>"
   ]
  },
  {
   "cell_type": "code",
   "execution_count": 41,
   "metadata": {
    "collapsed": false
   },
   "outputs": [
    {
     "data": {
      "text/html": [
       "<div>\n",
       "<table border=\"1\" class=\"dataframe\">\n",
       "  <thead>\n",
       "    <tr style=\"text-align: right;\">\n",
       "      <th></th>\n",
       "      <th>2014</th>\n",
       "      <th>Nome</th>\n",
       "      <th>num_nodi</th>\n",
       "    </tr>\n",
       "    <tr>\n",
       "      <th>CodiceMAP</th>\n",
       "      <th></th>\n",
       "      <th></th>\n",
       "      <th></th>\n",
       "    </tr>\n",
       "  </thead>\n",
       "  <tbody>\n",
       "    <tr>\n",
       "      <th>FR</th>\n",
       "      <td>284583</td>\n",
       "      <td>FRANCE</td>\n",
       "      <td>0</td>\n",
       "    </tr>\n",
       "    <tr>\n",
       "      <th>ES</th>\n",
       "      <td>268108</td>\n",
       "      <td>ESPAÑA</td>\n",
       "      <td>0</td>\n",
       "    </tr>\n",
       "    <tr>\n",
       "      <th>IT</th>\n",
       "      <td>266162</td>\n",
       "      <td>ITALIA</td>\n",
       "      <td>65764</td>\n",
       "    </tr>\n",
       "    <tr>\n",
       "      <th>DE</th>\n",
       "      <td>207282</td>\n",
       "      <td>DEUTSCHLAND</td>\n",
       "      <td>142332</td>\n",
       "    </tr>\n",
       "    <tr>\n",
       "      <th>UK</th>\n",
       "      <td>149750</td>\n",
       "      <td>UNITED KINGDOM</td>\n",
       "      <td>0</td>\n",
       "    </tr>\n",
       "    <tr>\n",
       "      <th>PT</th>\n",
       "      <td>81853</td>\n",
       "      <td>PORTUGAL</td>\n",
       "      <td>16163</td>\n",
       "    </tr>\n",
       "    <tr>\n",
       "      <th>EL</th>\n",
       "      <td>76224</td>\n",
       "      <td>Greece</td>\n",
       "      <td>error</td>\n",
       "    </tr>\n",
       "    <tr>\n",
       "      <th>NL</th>\n",
       "      <td>52919</td>\n",
       "      <td>NEDERLAND</td>\n",
       "      <td>error</td>\n",
       "    </tr>\n",
       "    <tr>\n",
       "      <th>CZ</th>\n",
       "      <td>51894</td>\n",
       "      <td>ČESKÁ REPUBLIKA</td>\n",
       "      <td>error</td>\n",
       "    </tr>\n",
       "    <tr>\n",
       "      <th>BE</th>\n",
       "      <td>47091</td>\n",
       "      <td>BELGIQUE-BELGIË</td>\n",
       "      <td>12243</td>\n",
       "    </tr>\n",
       "    <tr>\n",
       "      <th>PL</th>\n",
       "      <td>39647</td>\n",
       "      <td>POLSKA</td>\n",
       "      <td>error</td>\n",
       "    </tr>\n",
       "    <tr>\n",
       "      <th>AT</th>\n",
       "      <td>39178</td>\n",
       "      <td>ÖSTERREICH</td>\n",
       "      <td>19127</td>\n",
       "    </tr>\n",
       "    <tr>\n",
       "      <th>HU</th>\n",
       "      <td>27096</td>\n",
       "      <td>MAGYARORSZÁG</td>\n",
       "      <td>error</td>\n",
       "    </tr>\n",
       "    <tr>\n",
       "      <th>SE</th>\n",
       "      <td>26960</td>\n",
       "      <td>SVERIGE</td>\n",
       "      <td>error</td>\n",
       "    </tr>\n",
       "    <tr>\n",
       "      <th>BG</th>\n",
       "      <td>22074</td>\n",
       "      <td>BULGARIA</td>\n",
       "      <td>error</td>\n",
       "    </tr>\n",
       "    <tr>\n",
       "      <th>RO</th>\n",
       "      <td>20183</td>\n",
       "      <td>Romania</td>\n",
       "      <td>error</td>\n",
       "    </tr>\n",
       "    <tr>\n",
       "      <th>DK</th>\n",
       "      <td>15443</td>\n",
       "      <td>DANMARK</td>\n",
       "      <td>error</td>\n",
       "    </tr>\n",
       "    <tr>\n",
       "      <th>SK</th>\n",
       "      <td>13710</td>\n",
       "      <td>SLOVENSKÁ REPUBLIKA</td>\n",
       "      <td>error</td>\n",
       "    </tr>\n",
       "    <tr>\n",
       "      <th>FI</th>\n",
       "      <td>12682</td>\n",
       "      <td>SUOMI / FINLAND</td>\n",
       "      <td>error</td>\n",
       "    </tr>\n",
       "    <tr>\n",
       "      <th>NO</th>\n",
       "      <td>10486</td>\n",
       "      <td>NORGE</td>\n",
       "      <td>error</td>\n",
       "    </tr>\n",
       "    <tr>\n",
       "      <th>IE</th>\n",
       "      <td>8768</td>\n",
       "      <td>IRELAND</td>\n",
       "      <td>error</td>\n",
       "    </tr>\n",
       "    <tr>\n",
       "      <th>SI</th>\n",
       "      <td>8575</td>\n",
       "      <td>SLOVENIJA</td>\n",
       "      <td>error</td>\n",
       "    </tr>\n",
       "    <tr>\n",
       "      <th>CY</th>\n",
       "      <td>5107</td>\n",
       "      <td>ΚΥΠΡΟΣ / KIBRIS</td>\n",
       "      <td>error</td>\n",
       "    </tr>\n",
       "    <tr>\n",
       "      <th>LT</th>\n",
       "      <td>4331</td>\n",
       "      <td>LIETUVA</td>\n",
       "      <td>error</td>\n",
       "    </tr>\n",
       "    <tr>\n",
       "      <th>LV</th>\n",
       "      <td>4147</td>\n",
       "      <td>LATVIJA</td>\n",
       "      <td>error</td>\n",
       "    </tr>\n",
       "    <tr>\n",
       "      <th>LU</th>\n",
       "      <td>2776</td>\n",
       "      <td>LUXEMBOURG (GRAND-DUCHÉ)</td>\n",
       "      <td>error</td>\n",
       "    </tr>\n",
       "    <tr>\n",
       "      <th>MT</th>\n",
       "      <td>2050</td>\n",
       "      <td>MALTA</td>\n",
       "      <td>error</td>\n",
       "    </tr>\n",
       "    <tr>\n",
       "      <th>EE</th>\n",
       "      <td>1867</td>\n",
       "      <td>EESTI</td>\n",
       "      <td>error</td>\n",
       "    </tr>\n",
       "  </tbody>\n",
       "</table>\n",
       "</div>"
      ],
      "text/plain": [
       "             2014                      Nome num_nodi\n",
       "CodiceMAP                                           \n",
       "FR         284583                    FRANCE        0\n",
       "ES         268108                    ESPAÑA        0\n",
       "IT         266162                    ITALIA    65764\n",
       "DE         207282               DEUTSCHLAND   142332\n",
       "UK         149750            UNITED KINGDOM        0\n",
       "PT          81853                  PORTUGAL    16163\n",
       "EL          76224                    Greece    error\n",
       "NL          52919                 NEDERLAND    error\n",
       "CZ          51894           ČESKÁ REPUBLIKA    error\n",
       "BE          47091           BELGIQUE-BELGIË    12243\n",
       "PL          39647                    POLSKA    error\n",
       "AT          39178                ÖSTERREICH    19127\n",
       "HU          27096              MAGYARORSZÁG    error\n",
       "SE          26960                   SVERIGE    error\n",
       "BG          22074                  BULGARIA    error\n",
       "RO          20183                   Romania    error\n",
       "DK          15443                   DANMARK    error\n",
       "SK          13710       SLOVENSKÁ REPUBLIKA    error\n",
       "FI          12682           SUOMI / FINLAND    error\n",
       "NO          10486                     NORGE    error\n",
       "IE           8768                   IRELAND    error\n",
       "SI           8575                 SLOVENIJA    error\n",
       "CY           5107           ΚΥΠΡΟΣ / KIBRIS    error\n",
       "LT           4331                   LIETUVA    error\n",
       "LV           4147                   LATVIJA    error\n",
       "LU           2776  LUXEMBOURG (GRAND-DUCHÉ)    error\n",
       "MT           2050                     MALTA    error\n",
       "EE           1867                     EESTI    error"
      ]
     },
     "execution_count": 41,
     "metadata": {},
     "output_type": "execute_result"
    }
   ],
   "source": [
    "data[[2014, \"Nome\", \"num_nodi\"]]"
   ]
  },
  {
   "cell_type": "code",
   "execution_count": null,
   "metadata": {
    "collapsed": true
   },
   "outputs": [],
   "source": []
  }
 ],
 "metadata": {
  "kernelspec": {
   "display_name": "Python 3.5",
   "language": "python",
   "name": "python3.5"
  },
  "language_info": {
   "codemirror_mode": {
    "name": "ipython",
    "version": 3
   },
   "file_extension": ".py",
   "mimetype": "text/x-python",
   "name": "python",
   "nbconvert_exporter": "python",
   "pygments_lexer": "ipython3",
   "version": "3.5.2"
  }
 },
 "nbformat": 4,
 "nbformat_minor": 0
}
